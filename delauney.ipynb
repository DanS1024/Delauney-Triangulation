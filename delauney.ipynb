{
 "cells": [
  {
   "cell_type": "code",
   "execution_count": 2,
   "metadata": {},
   "outputs": [],
   "source": [
    "import sys\n",
    "import numpy as np\n",
    "import matplotlib.pyplot as plt\n",
    "# import pygame as pg\n",
    "from scipy.spatial import Delaunay\n",
    "import time\n",
    "# from HalfEdge import *\n",
    "from geompreds import orient2d, incircle\n",
    "import gmsh\n",
    "import sys\n",
    "from bisect import bisect"
   ]
  },
  {
   "cell_type": "code",
   "execution_count": 3,
   "metadata": {},
   "outputs": [],
   "source": [
    "class TriangularMesh:\n",
    "    def __init__(self, vertices=set(), faces=set(), halfedges=set(), Hvertices=[]):\n",
    "        self.vertices = vertices\n",
    "        self.faces = faces\n",
    "        self.halfedges = halfedges\n",
    "        self.version = int(sys.version.split('.')[1]) >= 10\n",
    "    \n",
    "    def add_Hvertex(self, coords, halfedge, Hilbert, index=None):\n",
    "        if self.version:\n",
    "            ind = bisect(self.vertices, Vertex(coords, halfedge, Hilbert, index), key=lambda x: x.Hilbert)\n",
    "            self.vertices.insert(ind, Vertex(coords, halfedge, Hilbert, index))\n",
    "        else:\n",
    "            self.vertices.append(Vertex(coords, halfedge, Hilbert, index))\n",
    "            self.vertices.sort(key=lambda x: x.Hilbert)\n",
    "            ind = self.vertices.index(Vertex(coords, halfedge, Hilbert, index))\n",
    "        return ind\n",
    "\n",
    "class Vertex:\n",
    "    def __init__(self, coords=None, halfedge=None, Hilbert=None, next=None, prev=None, index=None):\n",
    "        self.coords = coords\n",
    "        self.halfedge = halfedge\n",
    "        self.Hilbert = Hilbert\n",
    "        self.next = next\n",
    "        self.prev = prev\n",
    "        self.index = index\n",
    "\n",
    "class Face:\n",
    "    def __init__(self, halfedge=None, visited=None, index=None):\n",
    "        self.halfedge = halfedge # halfedge going ccw around this facet\n",
    "        self.visited = visited\n",
    "        self.index = index\n",
    "\n",
    "class Halfedge:\n",
    "    def __init__(self, next=None, prev=None, twin=None, vertex=None, facet=None, index=None):\n",
    "        self.next = next\n",
    "        self.prev = prev\n",
    "        self.twin = twin\n",
    "        self.vertex = vertex\n",
    "        self.facet = facet\n",
    "        self.index = index\n"
   ]
  },
  {
   "cell_type": "code",
   "execution_count": 11,
   "metadata": {},
   "outputs": [],
   "source": [
    "arr = [np.random.rand(2) for i in range(10000000)]"
   ]
  },
  {
   "cell_type": "code",
   "execution_count": 13,
   "metadata": {},
   "outputs": [
    {
     "name": "stdout",
     "output_type": "stream",
     "text": [
      "4.08 s ± 1.32 s per loop (mean ± std. dev. of 7 runs, 1 loop each)\n"
     ]
    }
   ],
   "source": [
    "%timeit arr2 = list(map(lambda x: (x[0], x[1]), arr))"
   ]
  },
  {
   "cell_type": "code",
   "execution_count": 8,
   "metadata": {},
   "outputs": [
    {
     "name": "stdout",
     "output_type": "stream",
     "text": [
      "12 s ± 1.86 s per loop (mean ± std. dev. of 7 runs, 1 loop each)\n"
     ]
    }
   ],
   "source": [
    "%timeit list(map(tuple, arr))\n",
    "orient2d()"
   ]
  },
  {
   "cell_type": "code",
   "execution_count": 22,
   "metadata": {},
   "outputs": [],
   "source": [
    "input_file = 'pts.dat' if '-i' not in sys.argv else sys.argv[sys.argv.index('-i') + 1]\n",
    "output_file = 'triangles.dat' if '-o' not in sys.argv else sys.argv[sys.argv.index('-o') + 1]"
   ]
  },
  {
   "cell_type": "code",
   "execution_count": 23,
   "metadata": {},
   "outputs": [],
   "source": [
    "points = np.random.rand(2, 10).T if input_file == '' else np.loadtxt(input_file, skiprows=1)\n",
    "N = len(points)\n",
    "border = [min(points[:, 0]), max(points[:, 0]), min(points[:, 1]), max(points[:, 1])]"
   ]
  },
  {
   "cell_type": "code",
   "execution_count": 26,
   "metadata": {},
   "outputs": [
    {
     "data": {
      "text/plain": [
       "numpy.ndarray"
      ]
     },
     "execution_count": 26,
     "metadata": {},
     "output_type": "execute_result"
    }
   ],
   "source": [
    "type(points)"
   ]
  },
  {
   "cell_type": "code",
   "execution_count": null,
   "metadata": {},
   "outputs": [],
   "source": []
  },
  {
   "cell_type": "code",
   "execution_count": 72,
   "metadata": {},
   "outputs": [
    {
     "ename": "TypeError",
     "evalue": "Random.random() takes no arguments (1 given)",
     "output_type": "error",
     "traceback": [
      "\u001b[1;31m---------------------------------------------------------------------------\u001b[0m",
      "\u001b[1;31mTypeError\u001b[0m                                 Traceback (most recent call last)",
      "Cell \u001b[1;32mIn[72], line 2\u001b[0m\n\u001b[0;32m      1\u001b[0m \u001b[38;5;28;01mimport\u001b[39;00m \u001b[38;5;21;01mrandom\u001b[39;00m\n\u001b[1;32m----> 2\u001b[0m \u001b[43mrandom\u001b[49m\u001b[38;5;241;43m.\u001b[39;49m\u001b[43mrandom\u001b[49m\u001b[43m(\u001b[49m\u001b[38;5;241;43m2\u001b[39;49m\u001b[43m)\u001b[49m\n",
      "\u001b[1;31mTypeError\u001b[0m: Random.random() takes no arguments (1 given)"
     ]
    }
   ],
   "source": [
    "import random\n",
    "random.uniform()"
   ]
  },
  {
   "cell_type": "code",
   "execution_count": null,
   "metadata": {},
   "outputs": [],
   "source": [
    "# expected result\n",
    "start = time.time()\n",
    "tri = Delaunay(points)\n",
    "print('Time:', time.time() - start)\n",
    "plt.triplot(points[:,0], points[:,1], tri.simplices, 'r-', linewidth=0.5)\n",
    "plt.plot(points[:,0], points[:,1], 'ko', markersize=2)\n",
    "plt.show()"
   ]
  },
  {
   "cell_type": "code",
   "execution_count": 38,
   "metadata": {},
   "outputs": [
    {
     "data": {
      "text/plain": [
       "(2.0, 1.2, 3.0, 4.0)"
      ]
     },
     "execution_count": 38,
     "metadata": {},
     "output_type": "execute_result"
    }
   ],
   "source": [
    "(2.0, 1.2) + (3.0, 4.0)"
   ]
  },
  {
   "cell_type": "code",
   "execution_count": 44,
   "metadata": {},
   "outputs": [
    {
     "name": "stdout",
     "output_type": "stream",
     "text": [
      "[2.  1.2] [3. 4.]\n",
      "[5.  5.2]\n",
      "(2.0, 1.2) (3.0, 4.0)\n"
     ]
    }
   ],
   "source": [
    "a, b = (2.0, 1.2), (3.0, 4.0)\n",
    "def f(c, d):\n",
    "    c, d = map(np.array, [c, d])\n",
    "    print(c, d)\n",
    "    return c+d\n",
    "print(f(a,b))\n",
    "print(a, b)"
   ]
  },
  {
   "cell_type": "code",
   "execution_count": 5,
   "metadata": {},
   "outputs": [],
   "source": [
    "depth = 16\n",
    "def Hilbert(point, depth, O, R, B):\n",
    "    point, O, R, B = map(np.array, [point, O, R, B])\n",
    "    index = [0] * depth\n",
    "    for i in range(depth):\n",
    "        dotR = np.dot(point-O, R) > 0\n",
    "        dotB = np.dot(point-O, B) > 0\n",
    "        R /= 2.\n",
    "        B /= 2.\n",
    "        if dotR:\n",
    "            if dotB:\n",
    "                index[i] = 2\n",
    "                O += R + B\n",
    "            else:\n",
    "                index[i] = 3\n",
    "                O += R - B\n",
    "                R, B = B, R\n",
    "        else:\n",
    "            if dotB:\n",
    "                index[i] = 1\n",
    "                O -= R - B\n",
    "            else:\n",
    "                index[i] = 0\n",
    "                O -= R + B\n",
    "                R, B = B, R\n",
    "    return index"
   ]
  },
  {
   "cell_type": "code",
   "execution_count": null,
   "metadata": {},
   "outputs": [],
   "source": [
    "a = (0.79,0.15)\n",
    "res = Hilbert(a, 4, (0.5, 0.5), (0.5, 0), (0, 0.5))\n",
    "print(res)"
   ]
  },
  {
   "cell_type": "code",
   "execution_count": 7,
   "metadata": {},
   "outputs": [],
   "source": [
    "# sort points according to Hilbert curve"
   ]
  },
  {
   "cell_type": "code",
   "execution_count": null,
   "metadata": {},
   "outputs": [],
   "source": []
  },
  {
   "cell_type": "code",
   "execution_count": 8,
   "metadata": {},
   "outputs": [],
   "source": [
    "def Ball(cavity, p, index):\n",
    "    # connect p to all vertices of the cavity\n",
    "    new_mesh = TriangularMesh()\n",
    "    new_mesh.vertices = cavity.vertices\n",
    "    prev_edge1 = None\n",
    "    for edge in cavity.halfedges:\n",
    "        edge1, edge2, face = Halfedge(), Halfedge(), Face()\n",
    "        edge1.vertex = p\n",
    "        edge1.next = edge\n",
    "        edge1.opposite = edge2\n",
    "        edge1.facet = face\n",
    "        edge1.index = index\n",
    "        edge2.vertex = edge.vertex\n",
    "        edge2.previous = edge.previous\n",
    "        edge2.opposite = edge1\n",
    "        edge2.facet = face\n",
    "        edge2.index = index + 1\n",
    "        edge2.next = prev_edge1\n",
    "        prev_edge1 = edge1\n",
    "        face.halfedge = edge\n",
    "        face.index = index + 2\n",
    "        index += 3\n",
    "        new_mesh.halfedges.append([edge1, edge2])\n",
    "        new_mesh.faces.append(face)\n",
    "        new_mesh.halfedges[1].next = new_mesh.halfedges[-2]\n",
    "    return new_mesh, index"
   ]
  },
  {
   "cell_type": "code",
   "execution_count": 1,
   "metadata": {},
   "outputs": [
    {
     "ename": "ModuleNotFoundError",
     "evalue": "No module named 'deque'",
     "output_type": "error",
     "traceback": [
      "\u001b[1;31m---------------------------------------------------------------------------\u001b[0m",
      "\u001b[1;31mModuleNotFoundError\u001b[0m                       Traceback (most recent call last)",
      "Cell \u001b[1;32mIn[1], line 1\u001b[0m\n\u001b[1;32m----> 1\u001b[0m \u001b[38;5;28;01mfrom\u001b[39;00m \u001b[38;5;21;01mdeque\u001b[39;00m \u001b[38;5;28;01mimport\u001b[39;00m deque\n\u001b[0;32m      2\u001b[0m \u001b[38;5;28;01mdef\u001b[39;00m \u001b[38;5;21mCavity\u001b[39m(mesh, p, ind):\n\u001b[0;32m      3\u001b[0m     cavity \u001b[38;5;241m=\u001b[39m TriangularMesh()\n",
      "\u001b[1;31mModuleNotFoundError\u001b[0m: No module named 'deque'"
     ]
    }
   ],
   "source": [
    "from collections import deque\n",
    "def Cavity(mesh, p, ind):\n",
    "    cavity = TriangularMesh()\n",
    "    # find a triangle containing p\n",
    "    def check_triangle(halfedge):\n",
    "        # face visited to implement\n",
    "        return incircle(halfedge.vertex.coords, halfedge.next.vertex.coords, halfedge.prev.vertex.coords, p.coords) >= 0.\n",
    "    def check_vertex(vertex):\n",
    "        halfedge = vertex.halfedge\n",
    "        while True:\n",
    "            if check_triangle(halfedge):\n",
    "                return halfedge\n",
    "            halfedge = halfedge.prev.twin\n",
    "            if halfedge == vertex.halfedge or halfedge == None:\n",
    "                break\n",
    "    stack = deque(mesh.vertices[ind-1], mesh.vertices[ind+1])\n",
    "    while True:\n",
    "        v = stack.popleft()\n"
   ]
  },
  {
   "cell_type": "code",
   "execution_count": 71,
   "metadata": {},
   "outputs": [
    {
     "data": {
      "text/plain": [
       "nan"
      ]
     },
     "execution_count": 71,
     "metadata": {},
     "output_type": "execute_result"
    }
   ],
   "source": [
    "orient2d((0., 0.), (0.5, 0.), (np.inf, -0.1))"
   ]
  },
  {
   "cell_type": "code",
   "execution_count": 14,
   "metadata": {},
   "outputs": [
    {
     "name": "stdout",
     "output_type": "stream",
     "text": [
      "9.95 μs ± 1.3 μs per loop (mean ± std. dev. of 7 runs, 100,000 loops each)\n"
     ]
    }
   ],
   "source": [
    "%timeit incircle(np.array([0., 0.]), np.array([1., 0.]), np.array([0., 1.]), np.array([0.5, -0.1]))"
   ]
  },
  {
   "cell_type": "code",
   "execution_count": 12,
   "metadata": {},
   "outputs": [
    {
     "name": "stdout",
     "output_type": "stream",
     "text": [
      "471 ns ± 31.3 ns per loop (mean ± std. dev. of 7 runs, 1,000,000 loops each)\n"
     ]
    }
   ],
   "source": [
    "%timeit incircle((0., 0.), (1., 0.), (0., 1.), (0.5, -0.1))"
   ]
  },
  {
   "cell_type": "code",
   "execution_count": null,
   "metadata": {},
   "outputs": [],
   "source": [
    "def test(a, b, c, p):\n",
    "    # if one of the points has index -1, do orient2d instead of incircle\n",
    "    if -1 in [a.index, b.index, c.index]:\n",
    "        return orient2d(a.coords, b.coords, c.coords)\n"
   ]
  },
  {
   "cell_type": "code",
   "execution_count": 64,
   "metadata": {},
   "outputs": [
    {
     "data": {
      "text/plain": [
       "1.7976931348623156e+169"
      ]
     },
     "execution_count": 64,
     "metadata": {},
     "output_type": "execute_result"
    }
   ],
   "source": [
    "import math\n",
    "sys.float_info.max/1e139"
   ]
  },
  {
   "cell_type": "code",
   "execution_count": 76,
   "metadata": {},
   "outputs": [
    {
     "name": "stdout",
     "output_type": "stream",
     "text": [
      "483 ns ± 41.4 ns per loop (mean ± std. dev. of 7 runs, 1,000,000 loops each)\n"
     ]
    }
   ],
   "source": [
    "%timeit incircle((0., 0.), (1., 0.), (0., 1.0), (0.5, -0.15))"
   ]
  },
  {
   "cell_type": "code",
   "execution_count": 78,
   "metadata": {},
   "outputs": [
    {
     "name": "stdout",
     "output_type": "stream",
     "text": [
      "4.16 μs ± 266 ns per loop (mean ± std. dev. of 7 runs, 100,000 loops each)\n"
     ]
    }
   ],
   "source": [
    "%timeit incircle((np.float64(0.), np.float64(0.)), (np.float64(1.), np.float64(0.)), (np.float64(0.), np.float64(1.0)), (np.float64(0.5), np.float64(-0.15)))"
   ]
  },
  {
   "cell_type": "code",
   "execution_count": 37,
   "metadata": {},
   "outputs": [
    {
     "name": "stdout",
     "output_type": "stream",
     "text": [
      "392 ns ± 139 ns per loop (mean ± std. dev. of 7 runs, 1,000,000 loops each)\n"
     ]
    }
   ],
   "source": [
    "a = [(0., 0.), (1., 0.), (0., 1.0), (0.5, -0.15)]\n",
    "# a = [[0., 0.], [1., 0.], [0., 1.0], [0.5, -0.15]]\n",
    "# a = [(np.float64(0.), np.float64(0.)), (np.float64(1.), np.float64(0.)), (np.float64(0.), np.float64(1.0)), (np.float64(0.5), np.float64(-0.15))]\n",
    "# a = [np.array([0., 0.]), np.array([1., 0.]), np.array([0., 1.0]), np.array([0.5, -0.15])]\n",
    "# a = np.array([[0., 0.], [1., 0.], [0., 1.0], [0.5, -0.15]])\n",
    "%timeit incircle(a[0], a[1], a[2], a[3])"
   ]
  },
  {
   "cell_type": "code",
   "execution_count": 43,
   "metadata": {},
   "outputs": [
    {
     "name": "stdout",
     "output_type": "stream",
     "text": [
      "2.94 s ± 180 ms per loop (mean ± std. dev. of 7 runs, 1 loop each)\n"
     ]
    }
   ],
   "source": [
    "arr = np.random.rand(10000000, 2)\n",
    "%timeit arr2 = list(map(tuple, arr.tolist()))"
   ]
  },
  {
   "cell_type": "code",
   "execution_count": 87,
   "metadata": {},
   "outputs": [
    {
     "data": {
      "text/plain": [
       "array([0., 0.])"
      ]
     },
     "execution_count": 87,
     "metadata": {},
     "output_type": "execute_result"
    }
   ],
   "source": []
  },
  {
   "cell_type": "code",
   "execution_count": 81,
   "metadata": {},
   "outputs": [
    {
     "name": "stdout",
     "output_type": "stream",
     "text": [
      "13.1 μs ± 1.2 μs per loop (mean ± std. dev. of 7 runs, 100,000 loops each)\n"
     ]
    }
   ],
   "source": [
    "%timeit incircle((np.float32(0.), np.float32(0.)), (np.float32(1.), np.float32(0.)), (np.float32(0.), np.float32(1.0)), (np.float32(0.5), np.float32(-0.15)))"
   ]
  },
  {
   "cell_type": "code",
   "execution_count": 82,
   "metadata": {},
   "outputs": [
    {
     "name": "stdout",
     "output_type": "stream",
     "text": [
      "13.3 μs ± 1.96 μs per loop (mean ± std. dev. of 7 runs, 10,000 loops each)\n"
     ]
    }
   ],
   "source": [
    "%timeit incircle((np.float16(0.), np.float16(0.)), (np.float16(1.), np.float16(0.)), (np.float16(0.), np.float16(1.0)), (np.float16(0.5), np.float16(-0.15)))"
   ]
  },
  {
   "cell_type": "code",
   "execution_count": 13,
   "metadata": {},
   "outputs": [
    {
     "name": "stdout",
     "output_type": "stream",
     "text": [
      "1.04 μs ± 164 ns per loop (mean ± std. dev. of 7 runs, 1,000,000 loops each)\n"
     ]
    }
   ],
   "source": [
    "%timeit incircle([0., 0.], [1., 0.], [0., 1.], [0.5, -0.1])"
   ]
  },
  {
   "cell_type": "code",
   "execution_count": 83,
   "metadata": {},
   "outputs": [],
   "source": [
    "a = list(map(tuple, np.random.rand(2, 10).T))"
   ]
  },
  {
   "cell_type": "code",
   "execution_count": 84,
   "metadata": {},
   "outputs": [
    {
     "name": "stdout",
     "output_type": "stream",
     "text": [
      "1.19 μs ± 239 ns per loop (mean ± std. dev. of 7 runs, 1,000,000 loops each)\n"
     ]
    }
   ],
   "source": [
    "%timeit incircle(a[0], a[1], a[2], a[3])"
   ]
  },
  {
   "cell_type": "code",
   "execution_count": null,
   "metadata": {},
   "outputs": [],
   "source": [
    "from bisect import insort\n",
    "def DL(points):\n",
    "    points = "
   ]
  },
  {
   "cell_type": "code",
   "execution_count": null,
   "metadata": {},
   "outputs": [],
   "source": [
    "points"
   ]
  },
  {
   "cell_type": "code",
   "execution_count": null,
   "metadata": {},
   "outputs": [],
   "source": [
    "np.random.rand(10, 2)"
   ]
  },
  {
   "cell_type": "code",
   "execution_count": 31,
   "metadata": {},
   "outputs": [],
   "source": [
    "b = sorted(np.random.rand(100, 2), key=lambda x: Hilbert(x, depth, np.array([0.5, 0.5]), np.array([0.5, 0.]), np.array([0., 0.5])))"
   ]
  },
  {
   "cell_type": "code",
   "execution_count": 32,
   "metadata": {},
   "outputs": [],
   "source": [
    "insort(b, np.array([0.51, 0.49]), key=lambda x: Hilbert(x, depth, np.array([0.5, 0.5]), np.array([0.5, 0.]), np.array([0., 0.5])))"
   ]
  },
  {
   "cell_type": "code",
   "execution_count": null,
   "metadata": {},
   "outputs": [],
   "source": [
    "for i, p in enumerate(b):\n",
    "    plt.plot(p[0], p[1], 'ko')\n",
    "    # write index\n",
    "    plt.text(p[0], p[1], str(i))\n",
    "plt.plot(b[-1][0], b[-1][1], 'ro')\n",
    "plt.show()\n"
   ]
  },
  {
   "cell_type": "code",
   "execution_count": 10,
   "metadata": {},
   "outputs": [
    {
     "name": "stdout",
     "output_type": "stream",
     "text": [
      "9\n"
     ]
    }
   ],
   "source": [
    "class test:\n",
    "    def __init__(self, a, b):\n",
    "        self.a = a\n",
    "        self.b = b\n",
    "    def __repr__(self):\n",
    "        return str(self.a-self.b)\n",
    "\n",
    "l = [] \n",
    "for i in range(10):\n",
    "    l.append(test(4*i**2, 3*i))\n",
    "\n",
    "print(l[3].b)"
   ]
  }
 ],
 "metadata": {
  "kernelspec": {
   "display_name": "Python 3",
   "language": "python",
   "name": "python3"
  },
  "language_info": {
   "codemirror_mode": {
    "name": "ipython",
    "version": 3
   },
   "file_extension": ".py",
   "mimetype": "text/x-python",
   "name": "python",
   "nbconvert_exporter": "python",
   "pygments_lexer": "ipython3",
   "version": "3.10.11"
  }
 },
 "nbformat": 4,
 "nbformat_minor": 2
}
